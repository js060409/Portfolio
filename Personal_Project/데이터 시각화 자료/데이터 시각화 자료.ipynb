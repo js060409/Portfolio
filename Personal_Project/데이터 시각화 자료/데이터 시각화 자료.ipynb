{
  "cells": [
    {
      "cell_type": "markdown",
      "metadata": {
        "id": "1LRluuL_L_os"
      },
      "source": [
        "**소스코드 공유**"
      ]
    },
    {
      "cell_type": "code",
      "execution_count": null,
      "metadata": {
        "id": "yZe7gTMwMH80"
      },
      "outputs": [],
      "source": [
        "from google.colab import files\n",
        "uploaded = files.upload()\n",
        "\n",
        "## 데이터 처리 방식은 엑셀 파일인 .csv 형식으로 진행합니다."
      ]
    },
    {
      "cell_type": "code",
      "execution_count": null,
      "metadata": {
        "id": "vd9Yq49VMKar"
      },
      "outputs": [],
      "source": [
        "# csv 라이브러리 임포트\n",
        "import csv\n",
        "\n",
        "f = open('업로드한 파일이름', encoding = 'ISO-8859-1')         # 파일 오픈\n",
        "data = csv.reader(f)         # 파일 읽기 reader\n",
        "next(data)                   # 파일 헤더 건너뛰기\n",
        "data = list(data)            # 파일 리스트로 바꾸기\n",
        "\n",
        "#파일 불러 올때 f = open('')안에 있는 글씨를 자신이 불러온 파일의 이름(확장자명 포함)으로 설정해야합니다.\n",
        "#파일 분석이 진행되지 않을때는 encoding 뒤 'ISO-8859-1'를 UTF-8로 변경하면 됩니다. (문자열 구분설정 오류)"
      ]
    },
    {
      "cell_type": "code",
      "execution_count": null,
      "metadata": {
        "id": "JVdT2pwgMfcD"
      },
      "outputs": [],
      "source": [
        "import matplotlib.pyplot as plt\n",
        "!sudo apt-get install -y fonts-nanum\n",
        "!sudo fc-cache -fv\n",
        "!rm ~/.cache/matplotlib -rf\n",
        "plt.rc('font', family='NanumGothic')\n",
        "#글씨체를 나눔 고딕체로 변경 (필수요소 이니 꼭 해주세요)"
      ]
    },
    {
      "cell_type": "code",
      "execution_count": null,
      "metadata": {
        "id": "M5MME6thMlSL"
      },
      "outputs": [],
      "source": [
        "import matplotlib.pyplot as plt\n",
        "import numpy as np\n",
        "xaxis = []\n",
        "yaxis = []\n",
        "for row in data:\n",
        "  scale.append(float(row[]))\n",
        "\n",
        "plt.figure(dpi = 200)                                        #해상도 조절\n",
        "plt.figure(figsize=(10, 5))                                  #그래프 사이즈 조절\n",
        "plt.rc('font', family = 'NanumGothic')                       #그래프 적용 글씨체\n",
        "plt.title()            #그래프 제목\n",
        "plt.bar(xaxis, yaxis, color = '')                        #그래프 그리기\n",
        "plt.show()\n",
        "\n",
        "# xaxis 리스트에는 x축으로 사용할 문자들을 '적용할 문자1', '적용할 문자2' 등의 형식으로 추가해 주세요\n",
        "# yaxis는 비워둡니다\n",
        "# 그래프 비율이 맞지 않을때는 figsize의 괄호 안 수치를 변경하시면 됩니다 (기본 1 : 2)\n",
        "# plt.title()의 괄호안에는 '사용할 제목' 형식으로 추가해주세요\n",
        "# plt.bar에 마지막 color = ' '부분에 ' ' 안에 사용할 색을 적어주시면 됩니다.\n",
        "# 추가적으로 코드에 궁금한 점이 있거나 오류 발견시 20611 박종상에게 연락주세요"
      ]
    },
    {
      "cell_type": "markdown",
      "metadata": {
        "id": "9EWrUltRNdPz"
      },
      "source": [
        "--------------------------------------------------------------------------------"
      ]
    }
  ],
  "metadata": {
    "colab": {
      "authorship_tag": "ABX9TyMslcrmPVLdxDvuebxjmRN2",
      "provenance": []
    },
    "kernelspec": {
      "display_name": "Python 3",
      "name": "python3"
    },
    "language_info": {
      "name": "python"
    }
  },
  "nbformat": 4,
  "nbformat_minor": 0
}
